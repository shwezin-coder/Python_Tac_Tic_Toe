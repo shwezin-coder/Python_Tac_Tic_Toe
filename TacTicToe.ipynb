{
 "cells": [
  {
   "cell_type": "code",
   "execution_count": 1,
   "id": "8ba341f1",
   "metadata": {
    "scrolled": true
   },
   "outputs": [
    {
     "name": "stdout",
     "output_type": "stream",
     "text": [
      "Please choose X or O: X\n"
     ]
    }
   ],
   "source": [
    "board = [\"-\",\"-\",\"-\",\n",
    "        \"-\",\"-\",\"-\",\n",
    "        \"-\",\"-\",\"-\"]\n",
    "playerChoice = input(\"Please choose X or O: \")\n",
    "winner = None\n",
    "RunningGame = False\n",
    "computerChoice = None"
   ]
  },
  {
   "cell_type": "code",
   "execution_count": 2,
   "id": "be94399f",
   "metadata": {},
   "outputs": [],
   "source": [
    "def printBoard(board):\n",
    "    for i in range(0, 9, 3):\n",
    "        print(f\"{board[i]}|{board[i + 1]}|{board[i + 2]}\")\n",
    "        if i < 6:\n",
    "            print(\"-----\")\n",
    "    return True"
   ]
  },
  {
   "cell_type": "code",
   "execution_count": 3,
   "id": "8f1888e4",
   "metadata": {},
   "outputs": [],
   "source": [
    "def runBoard(board):\n",
    "    playerSpot = int(input(\"Please enter a number between 0 and 9: \"))\n",
    "\n",
    "    while (board[playerSpot] == 'X' or board[playerSpot] == 'O'):\n",
    "        playerSpot = int(input(\"Already exist. Please enter a number between 0 and 9: \"))\n",
    "\n",
    "    board[playerSpot] = playerChoice\n",
    "    return board"
   ]
  },
  {
   "cell_type": "code",
   "execution_count": 4,
   "id": "4d811221",
   "metadata": {},
   "outputs": [],
   "source": [
    "def switchPlayer(playerChoice):\n",
    "    global computerChoice\n",
    "    if(playerChoice == \"X\"):\n",
    "        computerChoice = \"O\"\n",
    "    else:\n",
    "        computerChoice = \"X\"\n",
    "    return computerChoice"
   ]
  },
  {
   "cell_type": "code",
   "execution_count": 5,
   "id": "ff8e3027",
   "metadata": {},
   "outputs": [],
   "source": [
    "import random\n",
    "def runComputer(board):\n",
    "    computerSpot = random.randint(0,8)\n",
    "    while (board[computerSpot] == 'X' or board[computerSpot] == 'O'):\n",
    "        computerSpot = random.randint(0,8)\n",
    "\n",
    "    board[computerSpot] = computerChoice\n",
    "    return board"
   ]
  },
  {
   "cell_type": "code",
   "execution_count": 6,
   "id": "2dab60db",
   "metadata": {},
   "outputs": [],
   "source": [
    "def checkbar(board):\n",
    "    global winner, RunningGame\n",
    "    if board[0] == board[1] == board[2] and board[0] != \"-\":\n",
    "        winner = \"The winner is \" + board[0]\n",
    "        RunningGame = True\n",
    "    elif board[3] == board[4] == board[5] and board[3] != \"-\":\n",
    "        winner = \"The winner is \" + board[3]\n",
    "        RunningGame = True\n",
    "    elif board[6] == board[7] == board[8] and board[6] != \"-\":\n",
    "        winner = \"The winner is \" + board[6]\n",
    "        RunningGame = True\n",
    "    return winner"
   ]
  },
  {
   "cell_type": "code",
   "execution_count": 7,
   "id": "bbd67530",
   "metadata": {},
   "outputs": [],
   "source": [
    "def checkcolumn(board):\n",
    "    global winner, RunningGame\n",
    "    if board[0] == board[3] == board[6] and board[0] != \"-\":\n",
    "        winner = \"The winner is \" + board[0]\n",
    "        RunningGame = True\n",
    "    elif board[1] == board[4] == board[7] and board[1] != \"-\":\n",
    "        winner = \"The winner is \" + board[1]\n",
    "        RunningGame = True\n",
    "    elif board[2] == board[5] == board[8] and board[2] != \"-\":\n",
    "        winner = \"The winner is \" + board[2]\n",
    "        RunningGame = True\n",
    "    return winner"
   ]
  },
  {
   "cell_type": "code",
   "execution_count": 8,
   "id": "4cf36c80",
   "metadata": {},
   "outputs": [],
   "source": [
    "def checkcross(board):\n",
    "    global winner, RunningGame\n",
    "    if board[0] == board[4] == board[8] and board[0] != \"-\":\n",
    "        winner = \"The winner is \" + board[0]\n",
    "        RunningGame = True\n",
    "    elif board[2] == board[4] == board[6] and board[2] != \"-\":\n",
    "        winner = \"The winner is \" + board[2]\n",
    "        RunningGame = True\n",
    "    return winner"
   ]
  },
  {
   "cell_type": "code",
   "execution_count": 11,
   "id": "5080e999",
   "metadata": {},
   "outputs": [],
   "source": [
    "def checktie(board):\n",
    "    global winner, RunningGame\n",
    "    if '-' not in board:\n",
    "        winner = \"It's a tie.\"\n",
    "        RunningGame = True\n",
    "    return winner"
   ]
  },
  {
   "cell_type": "code",
   "execution_count": 12,
   "id": "cec07506",
   "metadata": {},
   "outputs": [
    {
     "name": "stdout",
     "output_type": "stream",
     "text": [
      "-|-|-\n",
      "-----\n",
      "-|-|-\n",
      "-----\n",
      "-|-|-\n",
      "Please enter a number between 0 and 9: 0\n",
      "None\n",
      "X|-|-\n",
      "-----\n",
      "-|O|-\n",
      "-----\n",
      "-|-|-\n",
      "Please enter a number between 0 and 9: 1\n",
      "None\n",
      "X|X|-\n",
      "-----\n",
      "-|O|-\n",
      "-----\n",
      "O|-|-\n",
      "Please enter a number between 0 and 9: 2\n",
      "The winner is X\n"
     ]
    }
   ],
   "source": [
    "while RunningGame == False:\n",
    "    switchPlayer(playerChoice)\n",
    "    printBoard(board)\n",
    "    runBoard(board)\n",
    "    runComputer(board)\n",
    "    checkbar(board)\n",
    "    checkcolumn(board)\n",
    "    checkcross(board)\n",
    "    checktie(board)\n",
    "    print(winner)"
   ]
  }
 ],
 "metadata": {
  "kernelspec": {
   "display_name": "Python 3 (ipykernel)",
   "language": "python",
   "name": "python3"
  },
  "language_info": {
   "codemirror_mode": {
    "name": "ipython",
    "version": 3
   },
   "file_extension": ".py",
   "mimetype": "text/x-python",
   "name": "python",
   "nbconvert_exporter": "python",
   "pygments_lexer": "ipython3",
   "version": "3.11.3"
  }
 },
 "nbformat": 4,
 "nbformat_minor": 5
}
